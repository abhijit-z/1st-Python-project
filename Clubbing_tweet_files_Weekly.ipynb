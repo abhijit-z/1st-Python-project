{
  "nbformat": 4,
  "nbformat_minor": 0,
  "metadata": {
    "colab": {
      "name": "Clubbing tweet files Weekly.ipynb",
      "provenance": [],
      "include_colab_link": true
    },
    "kernelspec": {
      "name": "python3",
      "display_name": "Python 3"
    },
    "language_info": {
      "name": "python"
    }
  },
  "cells": [
    {
      "cell_type": "markdown",
      "metadata": {
        "id": "view-in-github",
        "colab_type": "text"
      },
      "source": [
        "<a href=\"https://colab.research.google.com/github/abhijit-z/1st-Python-project/blob/main/Clubbing_tweet_files_Weekly.ipynb\" target=\"_parent\"><img src=\"https://colab.research.google.com/assets/colab-badge.svg\" alt=\"Open In Colab\"/></a>"
      ]
    },
    {
      "cell_type": "markdown",
      "source": [
        "## Clubbing the daily tweet files into weekly files"
      ],
      "metadata": {
        "id": "lfhg-UhvvcbL"
      }
    },
    {
      "cell_type": "code",
      "execution_count": null,
      "metadata": {
        "colab": {
          "base_uri": "https://localhost:8080/"
        },
        "id": "E3h4fURchmXI",
        "outputId": "5982fa6d-c91e-485b-b3c4-d1671ccae366"
      },
      "outputs": [
        {
          "output_type": "stream",
          "name": "stdout",
          "text": [
            "Drive already mounted at /content/drive; to attempt to forcibly remount, call drive.mount(\"/content/drive\", force_remount=True).\n"
          ]
        }
      ],
      "source": [
        "import pandas as pd\n",
        "import numpy as np\n",
        "import glob\n",
        "from datetime import datetime\n",
        "import os\n",
        "import re\n",
        "import string\n",
        "import nltk\n",
        "\n",
        "from collections import Counter\n",
        "from nltk.tokenize import word_tokenize\n",
        "from nltk.corpus import stopwords\n",
        "\n",
        "import seaborn as sns\n",
        "import matplotlib.pyplot as plt\n",
        "\n",
        "from datetime import datetime\n",
        "from datetime import timedelta\n",
        "from datetime import date\n",
        "\n",
        "from google.colab import drive\n",
        "drive.mount('/content/drive')"
      ]
    },
    {
      "cell_type": "code",
      "source": [
        "from datetime import timedelta\n",
        "from datetime import date\n",
        "today = date.today()\n",
        "print(today)\n",
        "\n",
        "next_day = today + timedelta(days=7)\n",
        "print(next_day)\n"
      ],
      "metadata": {
        "colab": {
          "base_uri": "https://localhost:8080/"
        },
        "id": "DdMq5aXNctJm",
        "outputId": "275a52e3-e4b4-4255-ebf9-29022393c8a1"
      },
      "execution_count": null,
      "outputs": [
        {
          "output_type": "stream",
          "name": "stdout",
          "text": [
            "2022-05-20\n",
            "2022-05-27\n"
          ]
        }
      ]
    },
    {
      "cell_type": "code",
      "source": [
        ""
      ],
      "metadata": {
        "id": "pfzzpqMYwKxJ"
      },
      "execution_count": null,
      "outputs": []
    },
    {
      "cell_type": "code",
      "source": [
        "path2 = \"/content/drive/MyDrive/Omicron Tweet Analytics project/Filter3_res/Only_ind_tweets/df_ind_tweets_11222021.csv\"\n",
        "dfxv = pd.read_csv(path2, engine= 'python')\n",
        "dfxv = dfxv.head(0)\n",
        "dfxv"
      ],
      "metadata": {
        "colab": {
          "base_uri": "https://localhost:8080/",
          "height": 49
        },
        "id": "rRlsLJQ9xc8L",
        "outputId": "8b5c8057-ba64-4acb-ecae-db9d65c3289a"
      },
      "execution_count": null,
      "outputs": [
        {
          "output_type": "execute_result",
          "data": {
            "text/plain": [
              "Empty DataFrame\n",
              "Columns: [Unnamed: 0, user_id, created_at, id, text]\n",
              "Index: []"
            ],
            "text/html": [
              "\n",
              "  <div id=\"df-8d6e5fa9-ef2c-4014-a376-3f3ce0eb34a8\">\n",
              "    <div class=\"colab-df-container\">\n",
              "      <div>\n",
              "<style scoped>\n",
              "    .dataframe tbody tr th:only-of-type {\n",
              "        vertical-align: middle;\n",
              "    }\n",
              "\n",
              "    .dataframe tbody tr th {\n",
              "        vertical-align: top;\n",
              "    }\n",
              "\n",
              "    .dataframe thead th {\n",
              "        text-align: right;\n",
              "    }\n",
              "</style>\n",
              "<table border=\"1\" class=\"dataframe\">\n",
              "  <thead>\n",
              "    <tr style=\"text-align: right;\">\n",
              "      <th></th>\n",
              "      <th>Unnamed: 0</th>\n",
              "      <th>user_id</th>\n",
              "      <th>created_at</th>\n",
              "      <th>id</th>\n",
              "      <th>text</th>\n",
              "    </tr>\n",
              "  </thead>\n",
              "  <tbody>\n",
              "  </tbody>\n",
              "</table>\n",
              "</div>\n",
              "      <button class=\"colab-df-convert\" onclick=\"convertToInteractive('df-8d6e5fa9-ef2c-4014-a376-3f3ce0eb34a8')\"\n",
              "              title=\"Convert this dataframe to an interactive table.\"\n",
              "              style=\"display:none;\">\n",
              "        \n",
              "  <svg xmlns=\"http://www.w3.org/2000/svg\" height=\"24px\"viewBox=\"0 0 24 24\"\n",
              "       width=\"24px\">\n",
              "    <path d=\"M0 0h24v24H0V0z\" fill=\"none\"/>\n",
              "    <path d=\"M18.56 5.44l.94 2.06.94-2.06 2.06-.94-2.06-.94-.94-2.06-.94 2.06-2.06.94zm-11 1L8.5 8.5l.94-2.06 2.06-.94-2.06-.94L8.5 2.5l-.94 2.06-2.06.94zm10 10l.94 2.06.94-2.06 2.06-.94-2.06-.94-.94-2.06-.94 2.06-2.06.94z\"/><path d=\"M17.41 7.96l-1.37-1.37c-.4-.4-.92-.59-1.43-.59-.52 0-1.04.2-1.43.59L10.3 9.45l-7.72 7.72c-.78.78-.78 2.05 0 2.83L4 21.41c.39.39.9.59 1.41.59.51 0 1.02-.2 1.41-.59l7.78-7.78 2.81-2.81c.8-.78.8-2.07 0-2.86zM5.41 20L4 18.59l7.72-7.72 1.47 1.35L5.41 20z\"/>\n",
              "  </svg>\n",
              "      </button>\n",
              "      \n",
              "  <style>\n",
              "    .colab-df-container {\n",
              "      display:flex;\n",
              "      flex-wrap:wrap;\n",
              "      gap: 12px;\n",
              "    }\n",
              "\n",
              "    .colab-df-convert {\n",
              "      background-color: #E8F0FE;\n",
              "      border: none;\n",
              "      border-radius: 50%;\n",
              "      cursor: pointer;\n",
              "      display: none;\n",
              "      fill: #1967D2;\n",
              "      height: 32px;\n",
              "      padding: 0 0 0 0;\n",
              "      width: 32px;\n",
              "    }\n",
              "\n",
              "    .colab-df-convert:hover {\n",
              "      background-color: #E2EBFA;\n",
              "      box-shadow: 0px 1px 2px rgba(60, 64, 67, 0.3), 0px 1px 3px 1px rgba(60, 64, 67, 0.15);\n",
              "      fill: #174EA6;\n",
              "    }\n",
              "\n",
              "    [theme=dark] .colab-df-convert {\n",
              "      background-color: #3B4455;\n",
              "      fill: #D2E3FC;\n",
              "    }\n",
              "\n",
              "    [theme=dark] .colab-df-convert:hover {\n",
              "      background-color: #434B5C;\n",
              "      box-shadow: 0px 1px 3px 1px rgba(0, 0, 0, 0.15);\n",
              "      filter: drop-shadow(0px 1px 2px rgba(0, 0, 0, 0.3));\n",
              "      fill: #FFFFFF;\n",
              "    }\n",
              "  </style>\n",
              "\n",
              "      <script>\n",
              "        const buttonEl =\n",
              "          document.querySelector('#df-8d6e5fa9-ef2c-4014-a376-3f3ce0eb34a8 button.colab-df-convert');\n",
              "        buttonEl.style.display =\n",
              "          google.colab.kernel.accessAllowed ? 'block' : 'none';\n",
              "\n",
              "        async function convertToInteractive(key) {\n",
              "          const element = document.querySelector('#df-8d6e5fa9-ef2c-4014-a376-3f3ce0eb34a8');\n",
              "          const dataTable =\n",
              "            await google.colab.kernel.invokeFunction('convertToInteractive',\n",
              "                                                     [key], {});\n",
              "          if (!dataTable) return;\n",
              "\n",
              "          const docLinkHtml = 'Like what you see? Visit the ' +\n",
              "            '<a target=\"_blank\" href=https://colab.research.google.com/notebooks/data_table.ipynb>data table notebook</a>'\n",
              "            + ' to learn more about interactive tables.';\n",
              "          element.innerHTML = '';\n",
              "          dataTable['output_type'] = 'display_data';\n",
              "          await google.colab.output.renderOutput(dataTable, element);\n",
              "          const docLink = document.createElement('div');\n",
              "          docLink.innerHTML = docLinkHtml;\n",
              "          element.appendChild(docLink);\n",
              "        }\n",
              "      </script>\n",
              "    </div>\n",
              "  </div>\n",
              "  "
            ]
          },
          "metadata": {},
          "execution_count": 6
        }
      ]
    },
    {
      "cell_type": "code",
      "source": [
        "from datetime import datetime\n",
        "from datetime import timedelta\n",
        "from datetime import date\n",
        "s=1\n",
        "date1 = '2021-11-21'\n",
        "date2 = '2022-01-31'\n",
        "#date2 = '2022-01-31'\n",
        "\n",
        "date1 = datetime.strptime(date1, '%Y-%m-%d')\n",
        "date2 = datetime.strptime(date2, '%Y-%m-%d')\n",
        "\n",
        "#for date1 in pd.date_range(date1, date2, freq='d')\n",
        "#d2 = date1 + timedelta(days=7)\n",
        "\n",
        "d1 = date1\n",
        "d2 = d1 + timedelta(days=6)\n",
        "for x in pd.date_range(date1, date2, freq='W'):\n",
        "  dfx=dfxv\n",
        "  for d in pd.date_range(d1, d2, freq='d'):\n",
        "    d_str = d.strftime(\"%m%d%Y\")\n",
        "    x1 = d1.strftime(\"%b_%d_%y\")\n",
        "    x2 = d2.strftime(\"%b_%d_%y\")\n",
        "    rng = x1 + \"to\" + x2\n",
        "    print(rng)\n",
        "\n",
        "    #print(d_str)\n",
        "    path = \"/content/drive/MyDrive/Omicron Tweet Analytics project/Filter3_res/Only_ind_tweets/df_ind_tweets_\" + d_str + \".csv\"\n",
        "    isExist = os.path.exists(path)\n",
        "    if isExist:\n",
        "      df = pd.read_csv(path, engine= 'python')\n",
        "      print(df.shape)\n",
        "      dfx = pd.concat([dfx, df], ignore_index=True)\n",
        "    else:\n",
        "      print(\"file does not exist\")\n",
        "  print(\"\\n\")\n",
        "  d1 = d + timedelta(days=1)\n",
        "  d2 = d1 + timedelta(days=6)\n",
        "  \n",
        "  path2 = \"/content/drive/MyDrive/Omicron Tweet Analytics project/Filter4_res/Weekly_Club/\"\n",
        "\n",
        "  #os.makedirs(path, exist_ok=False)\n",
        "  isExist = os.path.exists(path2)\n",
        "  if not isExist:\n",
        "  \n",
        "    # Create a new directory because it does not exist \n",
        "    os.makedirs(path2)\n",
        "    print(\"The new directory is created!\")\n",
        "  dest_path = \"/content/drive/MyDrive/Omicron Tweet Analytics project/Filter4_res/Weekly_Club/Week_\" + rng + \".csv\"\n",
        "  dest_path2 = \"/content/drive/MyDrive/Omicron Tweet Analytics project/Filter4_res/Weekly_Club/Week_\" + str(s) + \".csv\"\n",
        "  dfx.to_csv(dest_path, index = False)\n",
        "  dfx.to_csv(dest_path2, index = False)\n",
        "  s=s+1\n",
        "\n",
        "'''\n",
        "date2 = \n",
        "for d in pd.date_range(date1, , freq='d'):\n",
        "  print(d)\n",
        "  for i in range(1,8):\n",
        "    print(i)\n",
        "    '''"
      ],
      "metadata": {
        "colab": {
          "base_uri": "https://localhost:8080/",
          "height": 1000
        },
        "id": "7tgloEvi6rgW",
        "outputId": "4e9f174a-552d-47b5-e0e8-4ca25198f8e3"
      },
      "execution_count": null,
      "outputs": [
        {
          "output_type": "stream",
          "name": "stdout",
          "text": [
            "Nov_21_21toNov_27_21\n",
            "(41821, 5)\n",
            "Nov_21_21toNov_27_21\n",
            "(51431, 5)\n",
            "Nov_21_21toNov_27_21\n",
            "(47425, 5)\n",
            "Nov_21_21toNov_27_21\n",
            "(49540, 5)\n",
            "Nov_21_21toNov_27_21\n",
            "(41828, 5)\n",
            "Nov_21_21toNov_27_21\n",
            "(91051, 5)\n",
            "Nov_21_21toNov_27_21\n",
            "(74326, 5)\n",
            "\n",
            "\n",
            "The new directory is created!\n",
            "Nov_28_21toDec_04_21\n",
            "(68550, 5)\n",
            "Nov_28_21toDec_04_21\n",
            "(72610, 5)\n",
            "Nov_28_21toDec_04_21\n",
            "(76130, 5)\n",
            "Nov_28_21toDec_04_21\n",
            "(87132, 5)\n",
            "Nov_28_21toDec_04_21\n",
            "(88361, 5)\n",
            "Nov_28_21toDec_04_21\n",
            "(67463, 5)\n",
            "Nov_28_21toDec_04_21\n",
            "(50969, 5)\n",
            "\n",
            "\n",
            "Dec_05_21toDec_11_21\n",
            "(51006, 5)\n",
            "Dec_05_21toDec_11_21\n",
            "(68544, 5)\n",
            "Dec_05_21toDec_11_21\n",
            "(58274, 5)\n",
            "Dec_05_21toDec_11_21\n",
            "(75206, 5)\n",
            "Dec_05_21toDec_11_21\n",
            "(65730, 5)\n",
            "Dec_05_21toDec_11_21\n",
            "(52866, 5)\n",
            "Dec_05_21toDec_11_21\n",
            "(34580, 5)\n",
            "\n",
            "\n",
            "Dec_12_21toDec_18_21\n",
            "(51692, 5)\n",
            "Dec_12_21toDec_18_21\n",
            "(68286, 5)\n",
            "Dec_12_21toDec_18_21\n",
            "(84545, 5)\n",
            "Dec_12_21toDec_18_21\n",
            "(88793, 5)\n",
            "Dec_12_21toDec_18_21\n",
            "(84913, 5)\n",
            "Dec_12_21toDec_18_21\n",
            "(90502, 5)\n",
            "Dec_12_21toDec_18_21\n",
            "(80373, 5)\n",
            "\n",
            "\n",
            "Dec_19_21toDec_25_21\n",
            "(73142, 5)\n",
            "Dec_19_21toDec_25_21\n",
            "(95113, 5)\n",
            "Dec_19_21toDec_25_21\n",
            "(94807, 5)\n",
            "Dec_19_21toDec_25_21\n",
            "(57726, 5)\n",
            "Dec_19_21toDec_25_21\n",
            "(87956, 5)\n",
            "Dec_19_21toDec_25_21\n",
            "(191801, 5)\n",
            "Dec_19_21toDec_25_21\n",
            "(48819, 5)\n",
            "\n",
            "\n",
            "Dec_26_21toJan_01_22\n",
            "(55885, 5)\n",
            "Dec_26_21toJan_01_22\n",
            "(84928, 5)\n",
            "Dec_26_21toJan_01_22\n",
            "(96158, 5)\n",
            "Dec_26_21toJan_01_22\n",
            "(98598, 5)\n",
            "Dec_26_21toJan_01_22\n",
            "(109128, 5)\n",
            "Dec_26_21toJan_01_22\n",
            "(83000, 5)\n",
            "Dec_26_21toJan_01_22\n",
            "(65026, 5)\n",
            "\n",
            "\n",
            "Jan_02_22toJan_08_22\n",
            "(77754, 5)\n",
            "Jan_02_22toJan_08_22\n",
            "(91005, 5)\n",
            "Jan_02_22toJan_08_22\n",
            "(107548, 5)\n",
            "Jan_02_22toJan_08_22\n",
            "(101511, 5)\n",
            "Jan_02_22toJan_08_22\n",
            "(65744, 5)\n",
            "Jan_02_22toJan_08_22\n",
            "(110075, 5)\n",
            "Jan_02_22toJan_08_22\n",
            "(85381, 5)\n",
            "\n",
            "\n",
            "Jan_09_22toJan_15_22\n",
            "(79116, 5)\n",
            "Jan_09_22toJan_15_22\n",
            "(94092, 5)\n",
            "Jan_09_22toJan_15_22\n",
            "(97556, 5)\n",
            "Jan_09_22toJan_15_22\n",
            "(95648, 5)\n",
            "Jan_09_22toJan_15_22\n",
            "(96954, 5)\n",
            "Jan_09_22toJan_15_22\n",
            "(81494, 5)\n",
            "Jan_09_22toJan_15_22\n",
            "(61422, 5)\n",
            "\n",
            "\n",
            "Jan_16_22toJan_22_22\n",
            "(55246, 5)\n",
            "Jan_16_22toJan_22_22\n",
            "(61611, 5)\n",
            "Jan_16_22toJan_22_22\n",
            "(77750, 5)\n",
            "Jan_16_22toJan_22_22\n",
            "(77347, 5)\n",
            "Jan_16_22toJan_22_22\n",
            "(59711, 5)\n",
            "Jan_16_22toJan_22_22\n",
            "(63429, 5)\n",
            "Jan_16_22toJan_22_22\n",
            "(52645, 5)\n",
            "\n",
            "\n",
            "Jan_23_22toJan_29_22\n",
            "(49311, 5)\n",
            "Jan_23_22toJan_29_22\n",
            "(66311, 5)\n",
            "Jan_23_22toJan_29_22\n",
            "(65329, 5)\n",
            "Jan_23_22toJan_29_22\n",
            "(58322, 5)\n",
            "Jan_23_22toJan_29_22\n",
            "(63791, 5)\n",
            "Jan_23_22toJan_29_22\n",
            "(60342, 5)\n",
            "Jan_23_22toJan_29_22\n",
            "(47478, 5)\n",
            "\n",
            "\n",
            "Jan_30_22toFeb_05_22\n",
            "(44366, 5)\n",
            "Jan_30_22toFeb_05_22\n",
            "(66046, 5)\n",
            "Jan_30_22toFeb_05_22\n",
            "file does not exist\n",
            "Jan_30_22toFeb_05_22\n",
            "file does not exist\n",
            "Jan_30_22toFeb_05_22\n",
            "file does not exist\n",
            "Jan_30_22toFeb_05_22\n",
            "file does not exist\n",
            "Jan_30_22toFeb_05_22\n",
            "file does not exist\n",
            "\n",
            "\n"
          ]
        },
        {
          "output_type": "execute_result",
          "data": {
            "text/plain": [
              "\"\\ndate2 = \\nfor d in pd.date_range(date1, , freq='d'):\\n  print(d)\\n  for i in range(1,8):\\n    print(i)\\n    \""
            ],
            "application/vnd.google.colaboratory.intrinsic+json": {
              "type": "string"
            }
          },
          "metadata": {},
          "execution_count": 7
        }
      ]
    },
    {
      "cell_type": "code",
      "source": [
        "dfxv.shape"
      ],
      "metadata": {
        "colab": {
          "base_uri": "https://localhost:8080/"
        },
        "id": "ULXMhD6WDG4q",
        "outputId": "30475f82-0159-4220-df61-41323eea7c34"
      },
      "execution_count": null,
      "outputs": [
        {
          "output_type": "execute_result",
          "data": {
            "text/plain": [
              "(0, 5)"
            ]
          },
          "metadata": {},
          "execution_count": 8
        }
      ]
    },
    {
      "cell_type": "code",
      "source": [
        "print(dfx.shape)\n",
        "dfxv.head()"
      ],
      "metadata": {
        "colab": {
          "base_uri": "https://localhost:8080/",
          "height": 67
        },
        "id": "tlTxsH3M0Or2",
        "outputId": "7dfbc2e9-289a-48a0-bf7e-c23cb3100b5c"
      },
      "execution_count": null,
      "outputs": [
        {
          "output_type": "stream",
          "name": "stdout",
          "text": [
            "(110412, 5)\n"
          ]
        },
        {
          "output_type": "execute_result",
          "data": {
            "text/plain": [
              "Empty DataFrame\n",
              "Columns: [Unnamed: 0, user_id, created_at, id, text]\n",
              "Index: []"
            ],
            "text/html": [
              "\n",
              "  <div id=\"df-dbb542b3-9795-4e85-a987-85b717286bde\">\n",
              "    <div class=\"colab-df-container\">\n",
              "      <div>\n",
              "<style scoped>\n",
              "    .dataframe tbody tr th:only-of-type {\n",
              "        vertical-align: middle;\n",
              "    }\n",
              "\n",
              "    .dataframe tbody tr th {\n",
              "        vertical-align: top;\n",
              "    }\n",
              "\n",
              "    .dataframe thead th {\n",
              "        text-align: right;\n",
              "    }\n",
              "</style>\n",
              "<table border=\"1\" class=\"dataframe\">\n",
              "  <thead>\n",
              "    <tr style=\"text-align: right;\">\n",
              "      <th></th>\n",
              "      <th>Unnamed: 0</th>\n",
              "      <th>user_id</th>\n",
              "      <th>created_at</th>\n",
              "      <th>id</th>\n",
              "      <th>text</th>\n",
              "    </tr>\n",
              "  </thead>\n",
              "  <tbody>\n",
              "  </tbody>\n",
              "</table>\n",
              "</div>\n",
              "      <button class=\"colab-df-convert\" onclick=\"convertToInteractive('df-dbb542b3-9795-4e85-a987-85b717286bde')\"\n",
              "              title=\"Convert this dataframe to an interactive table.\"\n",
              "              style=\"display:none;\">\n",
              "        \n",
              "  <svg xmlns=\"http://www.w3.org/2000/svg\" height=\"24px\"viewBox=\"0 0 24 24\"\n",
              "       width=\"24px\">\n",
              "    <path d=\"M0 0h24v24H0V0z\" fill=\"none\"/>\n",
              "    <path d=\"M18.56 5.44l.94 2.06.94-2.06 2.06-.94-2.06-.94-.94-2.06-.94 2.06-2.06.94zm-11 1L8.5 8.5l.94-2.06 2.06-.94-2.06-.94L8.5 2.5l-.94 2.06-2.06.94zm10 10l.94 2.06.94-2.06 2.06-.94-2.06-.94-.94-2.06-.94 2.06-2.06.94z\"/><path d=\"M17.41 7.96l-1.37-1.37c-.4-.4-.92-.59-1.43-.59-.52 0-1.04.2-1.43.59L10.3 9.45l-7.72 7.72c-.78.78-.78 2.05 0 2.83L4 21.41c.39.39.9.59 1.41.59.51 0 1.02-.2 1.41-.59l7.78-7.78 2.81-2.81c.8-.78.8-2.07 0-2.86zM5.41 20L4 18.59l7.72-7.72 1.47 1.35L5.41 20z\"/>\n",
              "  </svg>\n",
              "      </button>\n",
              "      \n",
              "  <style>\n",
              "    .colab-df-container {\n",
              "      display:flex;\n",
              "      flex-wrap:wrap;\n",
              "      gap: 12px;\n",
              "    }\n",
              "\n",
              "    .colab-df-convert {\n",
              "      background-color: #E8F0FE;\n",
              "      border: none;\n",
              "      border-radius: 50%;\n",
              "      cursor: pointer;\n",
              "      display: none;\n",
              "      fill: #1967D2;\n",
              "      height: 32px;\n",
              "      padding: 0 0 0 0;\n",
              "      width: 32px;\n",
              "    }\n",
              "\n",
              "    .colab-df-convert:hover {\n",
              "      background-color: #E2EBFA;\n",
              "      box-shadow: 0px 1px 2px rgba(60, 64, 67, 0.3), 0px 1px 3px 1px rgba(60, 64, 67, 0.15);\n",
              "      fill: #174EA6;\n",
              "    }\n",
              "\n",
              "    [theme=dark] .colab-df-convert {\n",
              "      background-color: #3B4455;\n",
              "      fill: #D2E3FC;\n",
              "    }\n",
              "\n",
              "    [theme=dark] .colab-df-convert:hover {\n",
              "      background-color: #434B5C;\n",
              "      box-shadow: 0px 1px 3px 1px rgba(0, 0, 0, 0.15);\n",
              "      filter: drop-shadow(0px 1px 2px rgba(0, 0, 0, 0.3));\n",
              "      fill: #FFFFFF;\n",
              "    }\n",
              "  </style>\n",
              "\n",
              "      <script>\n",
              "        const buttonEl =\n",
              "          document.querySelector('#df-dbb542b3-9795-4e85-a987-85b717286bde button.colab-df-convert');\n",
              "        buttonEl.style.display =\n",
              "          google.colab.kernel.accessAllowed ? 'block' : 'none';\n",
              "\n",
              "        async function convertToInteractive(key) {\n",
              "          const element = document.querySelector('#df-dbb542b3-9795-4e85-a987-85b717286bde');\n",
              "          const dataTable =\n",
              "            await google.colab.kernel.invokeFunction('convertToInteractive',\n",
              "                                                     [key], {});\n",
              "          if (!dataTable) return;\n",
              "\n",
              "          const docLinkHtml = 'Like what you see? Visit the ' +\n",
              "            '<a target=\"_blank\" href=https://colab.research.google.com/notebooks/data_table.ipynb>data table notebook</a>'\n",
              "            + ' to learn more about interactive tables.';\n",
              "          element.innerHTML = '';\n",
              "          dataTable['output_type'] = 'display_data';\n",
              "          await google.colab.output.renderOutput(dataTable, element);\n",
              "          const docLink = document.createElement('div');\n",
              "          docLink.innerHTML = docLinkHtml;\n",
              "          element.appendChild(docLink);\n",
              "        }\n",
              "      </script>\n",
              "    </div>\n",
              "  </div>\n",
              "  "
            ]
          },
          "metadata": {},
          "execution_count": 9
        }
      ]
    },
    {
      "cell_type": "code",
      "source": [
        ""
      ],
      "metadata": {
        "id": "9gc1TQ8O0Nsb"
      },
      "execution_count": null,
      "outputs": []
    },
    {
      "cell_type": "code",
      "source": [
        "'''\n",
        "date1 = '2021-11-21'\n",
        "date2 = '2021-11-27'\n",
        "x=0\n",
        "for d in pd.date_range(date1, date2, freq='d'):\n",
        "  d_str = d.strftime(\"%m%d%Y\")\n",
        "  #print(d_str)\n",
        "  path = \"/content/drive/MyDrive/IDS 506 Healthcare Analytics/506 Project/Only_individual_tweet_files/df_ind_tweets_\" + d_str + \".csv\"\n",
        "  df1 = pd.read_csv(path, engine= 'python')\n",
        "  print(df1.shape)\n",
        "  x = x + df1.shape[0]\n",
        "print(x)\n",
        "'''"
      ],
      "metadata": {
        "colab": {
          "base_uri": "https://localhost:8080/",
          "height": 70
        },
        "id": "A_mqNwMf2VJN",
        "outputId": "06254140-f479-4cd9-b10e-7a2e428b96b5"
      },
      "execution_count": null,
      "outputs": [
        {
          "output_type": "execute_result",
          "data": {
            "text/plain": [
              "'\\ndate1 = \\'2021-11-21\\'\\ndate2 = \\'2021-11-27\\'\\nx=0\\nfor d in pd.date_range(date1, date2, freq=\\'d\\'):\\n  d_str = d.strftime(\"%m%d%Y\")\\n  #print(d_str)\\n  path = \"/content/drive/MyDrive/IDS 506 Healthcare Analytics/506 Project/Only_individual_tweet_files/df_ind_tweets_\" + d_str + \".csv\"\\n  df1 = pd.read_csv(path, engine= \\'python\\')\\n  print(df1.shape)\\n  x = x + df1.shape[0]\\nprint(x)\\n'"
            ],
            "application/vnd.google.colaboratory.intrinsic+json": {
              "type": "string"
            }
          },
          "metadata": {},
          "execution_count": 10
        }
      ]
    },
    {
      "cell_type": "code",
      "source": [
        "'''\n",
        "path2 = \"/content/drive/MyDrive/IDS 506 Healthcare Analytics/506 Project/Only_individual_tweet_files/df_ind_tweets_02012022.csv\"\n",
        "isExist = os.path.exists(path2)\n",
        "if isExist:\n",
        "  print(\"exists\")\n",
        "else:\n",
        "  print(\"not exists\")\n",
        "'''"
      ],
      "metadata": {
        "colab": {
          "base_uri": "https://localhost:8080/",
          "height": 53
        },
        "id": "5d39UvFIFTEd",
        "outputId": "8dee1c0e-c247-47e3-ff3e-4e806d18e0d6"
      },
      "execution_count": null,
      "outputs": [
        {
          "output_type": "execute_result",
          "data": {
            "text/plain": [
              "'\\npath2 = \"/content/drive/MyDrive/IDS 506 Healthcare Analytics/506 Project/Only_individual_tweet_files/df_ind_tweets_02012022.csv\"\\nisExist = os.path.exists(path2)\\nif isExist:\\n  print(\"exists\")\\nelse:\\n  print(\"not exists\")\\n'"
            ],
            "application/vnd.google.colaboratory.intrinsic+json": {
              "type": "string"
            }
          },
          "metadata": {},
          "execution_count": 11
        }
      ]
    }
  ]
}